{
 "cells": [
  {
   "cell_type": "code",
   "execution_count": 6,
   "id": "88523caf-096f-4a0e-a177-ba8c4da59c2d",
   "metadata": {},
   "outputs": [],
   "source": [
    "# Step 0: Import Libraries\n",
    "import requests\n",
    "import folium\n",
    "import urllib\n",
    "import pandas as pd"
   ]
  },
  {
   "cell_type": "code",
   "execution_count": null,
   "id": "b397cc86-1fb7-4d5c-933a-87ac2e8f4369",
   "metadata": {},
   "outputs": [],
   "source": [
    "# Step 1a: Import Data (Zillow)\n"
   ]
  },
  {
   "cell_type": "code",
   "execution_count": 27,
   "id": "a1f0f752-1c64-4543-9b05-f798cdf1318a",
   "metadata": {},
   "outputs": [],
   "source": [
    "# Step 1b: Import Data (DC Crime)\n",
    "crime_request = requests.get('https://opendata.arcgis.com/datasets/619c5bd17ca2411db0689bb0a211783c_3.geojson').json()\n",
    "crime_data = pd.json_normalize(crime_request['features'])"
   ]
  },
  {
   "cell_type": "code",
   "execution_count": 2,
   "id": "b04229f5-b674-4a47-b22a-3babb4981fb4",
   "metadata": {},
   "outputs": [],
   "source": [
    "# Step 2: Subset to DC neighborhoods"
   ]
  },
  {
   "cell_type": "code",
   "execution_count": null,
   "id": "bcc1b5ee-796c-442c-bdbe-c4f0c76e7e77",
   "metadata": {},
   "outputs": [],
   "source": [
    "# Step 3: Generate Plots"
   ]
  }
 ],
 "metadata": {
  "kernelspec": {
   "display_name": "Python 3 (ipykernel)",
   "language": "python",
   "name": "python3"
  },
  "language_info": {
   "codemirror_mode": {
    "name": "ipython",
    "version": 3
   },
   "file_extension": ".py",
   "mimetype": "text/x-python",
   "name": "python",
   "nbconvert_exporter": "python",
   "pygments_lexer": "ipython3",
   "version": "3.9.7"
  }
 },
 "nbformat": 4,
 "nbformat_minor": 5
}
